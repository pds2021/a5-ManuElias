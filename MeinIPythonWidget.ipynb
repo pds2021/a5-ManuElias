{
  "nbformat": 4,
  "nbformat_minor": 0,
  "metadata": {
    "colab": {
      "name": "MeinIPythonWidget.ipynb",
      "provenance": [],
      "authorship_tag": "ABX9TyNu2L50RkkrZ+9HdwbCWsbp",
      "include_colab_link": true
    },
    "kernelspec": {
      "name": "python3",
      "display_name": "Python 3"
    }
  },
  "cells": [
    {
      "cell_type": "markdown",
      "metadata": {
        "id": "view-in-github",
        "colab_type": "text"
      },
      "source": [
        "<a href=\"https://colab.research.google.com/github/pds2021/a5-ManuElias/blob/assignment_5/MeinIPythonWidget.ipynb\" target=\"_parent\"><img src=\"https://colab.research.google.com/assets/colab-badge.svg\" alt=\"Open In Colab\"/></a>"
      ]
    },
    {
      "cell_type": "code",
      "metadata": {
        "id": "PbcEmjfGmLuW",
        "colab": {
          "base_uri": "https://localhost:8080/"
        },
        "outputId": "4b6e7419-69e3-4c1f-f8bb-6592adcc068c"
      },
      "source": [
        "!pip install -Uqq fastai"
      ],
      "execution_count": 1,
      "outputs": [
        {
          "output_type": "stream",
          "text": [
            "\u001b[K     |████████████████████████████████| 194kB 4.4MB/s \n",
            "\u001b[K     |████████████████████████████████| 61kB 3.6MB/s \n",
            "\u001b[?25h"
          ],
          "name": "stdout"
        }
      ]
    },
    {
      "cell_type": "code",
      "metadata": {
        "id": "zEOvjh_4nw6W"
      },
      "source": [
        "from fastai.vision.all import *\r\n",
        "from fastai.vision.widgets import *"
      ],
      "execution_count": 2,
      "outputs": []
    },
    {
      "cell_type": "code",
      "metadata": {
        "id": "q8Dw6ptYrdRV"
      },
      "source": [
        "download_url('https://github.com/pds2021/a5-ManuElias/releases/download/model/export.pkl', 'export.pkl')\r\n",
        "learn_inf = load_learner('export.pkl', cpu=True)\r\n",
        "btn_upload = widgets.FileUpload()\r\n",
        "btn_run = widgets.Button(description='Classify')\r\n",
        "out_pl = widgets.Output()\r\n",
        "lbl_pred = widgets.Label()\r\n",
        "\r\n",
        "def on_click_classify(change):\r\n",
        "    img = PILImage.create(btn_upload.data[-1])\r\n",
        "    out_pl.clear_output()\r\n",
        "    with out_pl: display(img.to_thumb(512,512))\r\n",
        "    pred,pred_idx,probs = learn_inf.predict(img)\r\n",
        "    lbl_pred.value = f'Prediction: {pred}; Probability: {probs[pred_idx]:.04f}'\r\n",
        "\r\n",
        "btn_run.on_click(on_click_classify)\r\n",
        "VBox([widgets.Label('Select your bear!'), \r\n",
        "      btn_upload, btn_run, out_pl, lbl_pred])"
      ],
      "execution_count": null,
      "outputs": []
    }
  ]
}